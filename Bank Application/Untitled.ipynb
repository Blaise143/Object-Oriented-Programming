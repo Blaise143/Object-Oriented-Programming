{
 "cells": [
  {
   "cell_type": "code",
   "execution_count": 34,
   "id": "bb03c63f",
   "metadata": {},
   "outputs": [],
   "source": [
    "class Accounts:\n",
    "    def __init__(self, name, account_number, balance, SSN):\n",
    "        self.name = name\n",
    "        self.account_number = account_number\n",
    "        self.balance = balance\n",
    "        self.ssn = SSN\n",
    "\n",
    "    def deposit(self, amount):\n",
    "        print(\"Prior Balance : \", self.balance)\n",
    "        print(\"Depositing amount: \", amount)\n",
    "        self.balance += amount\n",
    "        print(\"Your new balance is: \", self.balance)\n",
    "\n",
    "    def show_info(self):\n",
    "        print(\"Name :\", self.name, \"balance :\", self.balance, \"Account Number :\", self.account_number)\n",
    "\n",
    "    def transfer(self, amount: int, recepient):\n",
    "        if self.balance < amount:\n",
    "            print(\"You have insufficient funds\")\n",
    "        else:\n",
    "            self.balance = self.balance - amount\n",
    "            recepient.deposit(self.amount)\n",
    "\n",
    "    def withdraw(self, amount):\n",
    "        if self.balance > amount:\n",
    "            print(\"Old Balance : \", self.balance)\n",
    "            print(\"Withdrawing \", amount)\n",
    "            self.balance = self.balance -  amount\n",
    "            print(\"Your new balance is \", self.balance)\n",
    "        else:\n",
    "            print(\"You have Insufficient Funds\")\n",
    "            \n",
    "        "
   ]
  },
  {
   "cell_type": "code",
   "execution_count": 35,
   "id": "d2e17db6",
   "metadata": {},
   "outputs": [],
   "source": [
    "James = Accounts(\"James\", 23342, 100000, 3293702)\n",
    "Peter = Accounts(\"Peter\", 3243, 0, 32343)"
   ]
  },
  {
   "cell_type": "code",
   "execution_count": 36,
   "id": "c3ed16e5",
   "metadata": {},
   "outputs": [
    {
     "name": "stdout",
     "output_type": "stream",
     "text": [
      "Name : Peter balance : 0 Account Number : 3243\n"
     ]
    }
   ],
   "source": [
    "Peter.show_info()"
   ]
  },
  {
   "cell_type": "code",
   "execution_count": 37,
   "id": "c0291df0",
   "metadata": {},
   "outputs": [
    {
     "name": "stdout",
     "output_type": "stream",
     "text": [
      "Prior Balance :  -8377174677752\n",
      "Depositing amount:  1324342321\n",
      "Your new balance is:  -8375850335431\n"
     ]
    }
   ],
   "source": [
    "blaise.deposit(1324342321)"
   ]
  },
  {
   "cell_type": "code",
   "execution_count": 38,
   "id": "837a9fd4",
   "metadata": {},
   "outputs": [
    {
     "name": "stdout",
     "output_type": "stream",
     "text": [
      "You have Insufficient Funds\n"
     ]
    }
   ],
   "source": [
    "Peter.withdraw(8379823462394)"
   ]
  },
  {
   "cell_type": "code",
   "execution_count": null,
   "id": "a479c8b6",
   "metadata": {},
   "outputs": [],
   "source": []
  }
 ],
 "metadata": {
  "kernelspec": {
   "display_name": "Python 3 (ipykernel)",
   "language": "python",
   "name": "python3"
  },
  "language_info": {
   "codemirror_mode": {
    "name": "ipython",
    "version": 3
   },
   "file_extension": ".py",
   "mimetype": "text/x-python",
   "name": "python",
   "nbconvert_exporter": "python",
   "pygments_lexer": "ipython3",
   "version": "3.9.7"
  }
 },
 "nbformat": 4,
 "nbformat_minor": 5
}
