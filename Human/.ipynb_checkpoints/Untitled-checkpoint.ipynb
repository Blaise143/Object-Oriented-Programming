{
 "cells": [
  {
   "cell_type": "code",
   "execution_count": 7,
   "id": "135a6671",
   "metadata": {},
   "outputs": [],
   "source": [
    "class Human:\n",
    "    def __init__(self, name : str, age : int, height : int) -> None:\n",
    "        self.age = age\n",
    "        self.name = name\n",
    "        self.height = height\n",
    "        \n",
    "    def get_name(self) -> str:\n",
    "        return self.name\n",
    "    \n",
    "    def get_age(self) -> int:\n",
    "        return self.age\n",
    "    \n",
    "    def get_height(self) -> int:\n",
    "        return self.height"
   ]
  },
  {
   "cell_type": "code",
   "execution_count": 31,
   "id": "2189bacd",
   "metadata": {},
   "outputs": [],
   "source": [
    "class Student(Human):\n",
    "    \n",
    "    def __init__(self, name : str, age : int, height : int, grade : int):\n",
    "        super().__init__(name, age, height)\n",
    "        self.grade=grade\n",
    "        \n",
    "    def get_grade(self) -> int:\n",
    "        return self.grade\n",
    "        \n",
    "    def set_grade(self, grade : int) -> None:\n",
    "        self.grade = grade\n",
    "        \n",
    "    "
   ]
  }
 ],
 "metadata": {
  "kernelspec": {
   "display_name": "Python 3 (ipykernel)",
   "language": "python",
   "name": "python3"
  },
  "language_info": {
   "codemirror_mode": {
    "name": "ipython",
    "version": 3
   },
   "file_extension": ".py",
   "mimetype": "text/x-python",
   "name": "python",
   "nbconvert_exporter": "python",
   "pygments_lexer": "ipython3",
   "version": "3.9.7"
  }
 },
 "nbformat": 4,
 "nbformat_minor": 5
}
